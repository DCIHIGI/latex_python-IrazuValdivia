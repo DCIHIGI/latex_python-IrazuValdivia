{
 "cells": [
  {
   "cell_type": "code",
   "execution_count": null,
   "id": "0b331f43-f3bd-4873-9c66-d80a4d624b14",
   "metadata": {},
   "outputs": [],
   "source": [
    "ent=pd.read_csv('todos.csv', usecols=['Entidad federativa']).head(33)\n",
    "ent\n",
    "mig_2000=pd.read_csv('todos.csv', usecols=['Entidad federativa','Emigrante']).head(3)\n"
   ]
  },
  {
   "cell_type": "code",
   "execution_count": null,
   "id": "39437ecd-fda5-4e90-ae50-1121a3166f97",
   "metadata": {},
   "outputs": [],
   "source": [
    "suma=pd.read_csv('todos-suma.csv', usecols=['Estado','Suma']).head(4)\n",
    "suma\n",
    "suma['Suma'].describe()"
   ]
  },
  {
   "cell_type": "code",
   "execution_count": null,
   "id": "aeb38b13-0ff4-4ba7-9d25-4cfafa58c19a",
   "metadata": {},
   "outputs": [],
   "source": [
    "ent_a1=np.unique(suma['Estado'])\n",
    "ent_a1\n",
    "mig_a1=np.unique(suma['Suma'])\n",
    "mig_a1\n",
    "#Grafica\n",
    "names=list(ent_a1)\n",
    "values=list(mig_a1)\n",
    "\n",
    "fig, axs=plt.subplots(1, 2, figsize=(25,10), sharey=True)\n",
    "axs[0].bar(names, values)\n",
    "plt.legend(loc='right')\n",
    "plt.title('Migración')\n",
    "plt.xlabel('Entidad')\n",
    "plt.ylabel('Cantidad')\n",
    "axs[1].scatter(names, values)\n",
    "axs[2].plot(names, values)\n",
    "plt.legend(loc='right')\n",
    "plt.title('Migración')\n",
    "plt.xlabel('Entidad')\n",
    "plt.ylabel('Cantidad')\n",
    "fig.suptitle('Migracion')"
   ]
  },
  {
   "cell_type": "code",
   "execution_count": null,
   "id": "d63f32c6-717a-4f26-818e-8968a0f1df0e",
   "metadata": {},
   "outputs": [],
   "source": [
    "por=pd.read_csv('todos-procentaje.csv', usecols=['Estado','Porcentaje de emigrantes']).head(4)\n",
    "por['Porcentaje de emigrantes'].describe()\n",
    "ent_a2=np.unique(por['Estado'])\n",
    "ent_a2\n",
    "mig_a2=np.unique(por['Porcentaje de emigrantes'])\n",
    "mig_a2\n",
    "names=list(ent_a2)\n",
    "values=list(mig_a2)\n",
    "\n",
    "fig, axs=plt.subplots(1, 2, figsize=(20,10), sharey=True)\n",
    "axs[0].bar(names, values)\n",
    "plt.legend(loc='right')\n",
    "plt.title('Migración')\n",
    "plt.xlabel('Entidad')\n",
    "plt.ylabel('Cantidad')\n",
    "axs[1].scatter(names, values)\n",
    "axs[2].plot(names, values)\n",
    "fig.suptitle('Migracion')\n",
    "lin=pd.read_csv('las-sumas.csv', usecols=['Año','Total'])\n",
    "ent_a3=np.unique(lin['Año'])\n",
    "ent_a3\n",
    "mig_a3=np.unique(lin['Total'])\n",
    "mig_a3\n",
    "names=list(ent_a3)\n",
    "values=list(mig_a3)\n",
    "\n",
    "fig, axs=plt.subplots(1, 3, figsize=(9,3), sharey=True)\n",
    "plt.legend(loc='right')\n",
    "plt.title('Migración')\n",
    "plt.xlabel('Entidad')\n",
    "plt.ylabel('Cantidad')\n",
    "axs[0].bar(names, values)\n",
    "plt.legend(loc='right')\n",
    "plt.title('Migración')\n",
    "plt.xlabel('Entidad')\n",
    "plt.ylabel('Cantidad')\n",
    "axs[1].scatter(names, values)\n",
    "plt.legend(loc='right')\n",
    "plt.title('Migración')\n",
    "plt.xlabel('Entidad')\n",
    "plt.ylabel('Cantidad')\n",
    "axs[2].plot(names, values)\n",
    "fig.suptitle('Migracion')"
   ]
  }
 ],
 "metadata": {
  "kernelspec": {
   "display_name": "Python 3",
   "language": "python",
   "name": "python3"
  },
  "language_info": {
   "codemirror_mode": {
    "name": "ipython",
    "version": 3
   },
   "file_extension": ".py",
   "mimetype": "text/x-python",
   "name": "python",
   "nbconvert_exporter": "python",
   "pygments_lexer": "ipython3",
   "version": "3.8.5"
  }
 },
 "nbformat": 4,
 "nbformat_minor": 5
}
